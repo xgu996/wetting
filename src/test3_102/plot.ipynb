{
 "cells": [
  {
   "cell_type": "code",
   "execution_count": 3,
   "id": "eb3480f3",
   "metadata": {},
   "outputs": [],
   "source": [
    "import math\n",
    "from math import pi\n",
    "\n",
    "import netgen.geom2d as g2d\n",
    "from ngsolve import *\n",
    "from ngsolve.webgui import Draw\n",
    "\n",
    "import sys\n",
    "sys.path.append(\"..\")\n",
    "\n",
    "import numpy as np\n",
    "from scipy.io import loadmat, savemat\n",
    "\n",
    "from fealpy.functionspace import LagrangeFiniteElementSpace\n",
    "\n",
    "from mesh_generator import DomainParallelogramBottom\n",
    "from chisd_allencahn import ChisdAllenCahn\n",
    "from model_data import DropletLattice"
   ]
  },
  {
   "cell_type": "code",
   "execution_count": 4,
   "id": "b1e5f611",
   "metadata": {},
   "outputs": [
    {
     "data": {
      "application/vnd.jupyter.widget-view+json": {
       "model_id": "ff16a9f7ad4b4ffa8a3be32681747837",
       "version_major": 2,
       "version_minor": 0
      },
      "text/plain": [
       "WebGuiWidget(layout=Layout(height='50vh', width='100%'), value={'gui_settings': {}, 'ngsolve_version': '6.2.23…"
      ]
     },
     "metadata": {},
     "output_type": "display_data"
    },
    {
     "data": {
      "text/plain": [
       "BaseWebGuiScene"
      ]
     },
     "execution_count": 4,
     "metadata": {},
     "output_type": "execute_result"
    }
   ],
   "source": [
    "box = (0, 1.6, 0, 0.7)\n",
    "bottom_gap = 0.08\n",
    "shape_parameter = (0.06, bottom_gap * 0.8, 40)\n",
    "domain = DomainParallelogramBottom(\n",
    "    box=box, shape_parameter=shape_parameter, bottom_gap=bottom_gap\n",
    ")\n",
    "\n",
    "geo = domain.geometry_info()\n",
    "geoMesh = geo.GenerateMesh(maxh=0.01)\n",
    "mesh = Mesh(geoMesh)\n",
    "Draw(mesh)"
   ]
  },
  {
   "cell_type": "code",
   "execution_count": 5,
   "id": "67b8f668",
   "metadata": {},
   "outputs": [],
   "source": [
    "from scipy.io import loadmat\n",
    "\n",
    "# file = './solution_data/u0.mat'\n",
    "file = './solution_data/000_UUU.mat'\n",
    "# file = './solution_data/100_UUU.mat'\n",
    "# file = './solution_data/001_UUU.mat'\n",
    "# file = './solution_data/00_UU_L.mat'\n",
    "# file = './solution_data/00_UU_R.mat'\n",
    "# file = './solution_data/100_UUU_L.mat'\n",
    "# file = './solution_data/000_UUU_L.mat'\n",
    "# file = './solution_data/000_UUU_R.mat'\n",
    "# file = './solution_data/001_UUD.mat'\n",
    "# file = './solution_data/000_UUD.mat'\n",
    "# file = './solution_data/100_DDD.mat'\n",
    "# file = './solution_data/000_DDD.mat'\n",
    "# file = './solution_data/010_UDD.mat'\n",
    "file = './solution_data/000_UDD.mat'\n",
    "\n",
    "\n",
    "data = loadmat(file)\n",
    "upy = data['u'].flatten()"
   ]
  },
  {
   "cell_type": "code",
   "execution_count": 6,
   "id": "def72d89",
   "metadata": {},
   "outputs": [],
   "source": [
    "# show energy\n"
   ]
  },
  {
   "cell_type": "code",
   "execution_count": 7,
   "id": "7290ed1a",
   "metadata": {
    "scrolled": true
   },
   "outputs": [
    {
     "data": {
      "application/vnd.jupyter.widget-view+json": {
       "model_id": "a082a0a1e0e6440d9660071a96c85b87",
       "version_major": 2,
       "version_minor": 0
      },
      "text/plain": [
       "WebGuiWidget(layout=Layout(height='50vh', width='100%'), value={'gui_settings': {}, 'ngsolve_version': '6.2.23…"
      ]
     },
     "metadata": {},
     "output_type": "display_data"
    },
    {
     "data": {
      "text/plain": [
       "BaseWebGuiScene"
      ]
     },
     "execution_count": 7,
     "metadata": {},
     "output_type": "execute_result"
    }
   ],
   "source": [
    "fes = H1(mesh, order=1)\n",
    "gfu = GridFunction(fes)\n",
    "gfu.vec[:] = upy\n",
    "Draw(gfu)"
   ]
  },
  {
   "cell_type": "code",
   "execution_count": null,
   "id": "1397c301",
   "metadata": {},
   "outputs": [],
   "source": []
  },
  {
   "cell_type": "code",
   "execution_count": null,
   "id": "74e13229",
   "metadata": {},
   "outputs": [],
   "source": []
  }
 ],
 "metadata": {
  "kernelspec": {
   "display_name": "ng",
   "language": "python",
   "name": "ng"
  },
  "language_info": {
   "codemirror_mode": {
    "name": "ipython",
    "version": 3
   },
   "file_extension": ".py",
   "mimetype": "text/x-python",
   "name": "python",
   "nbconvert_exporter": "python",
   "pygments_lexer": "ipython3",
   "version": "3.8.18"
  }
 },
 "nbformat": 4,
 "nbformat_minor": 5
}
