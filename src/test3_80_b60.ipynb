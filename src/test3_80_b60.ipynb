{
 "cells": [
  {
   "cell_type": "code",
   "execution_count": 1,
   "id": "e3aa06fc-0b7a-490c-9753-b5add2067c60",
   "metadata": {
    "tags": []
   },
   "outputs": [],
   "source": [
    "import math\n",
    "from math import pi\n",
    "\n",
    "import netgen.geom2d as g2d\n",
    "from ngsolve import *\n",
    "from ngsolve.webgui import Draw\n",
    "\n",
    "import sys\n",
    "\n",
    "sys.path.append(\"..\")\n",
    "\n",
    "import numpy as np\n",
    "from scipy.io import loadmat, savemat\n",
    "import matplotlib.pyplot as plt\n",
    "\n",
    "from fealpy.functionspace import LagrangeFiniteElementSpace\n",
    "\n",
    "from mesh_generator import DomainParallelogramBottom\n",
    "from chisd_allencahn import ChisdAllenCahn\n",
    "from model_data import DropletLattice"
   ]
  },
  {
   "cell_type": "code",
   "execution_count": 2,
   "id": "eeb78a54-729f-4004-a4aa-2f7b2eb4a6d8",
   "metadata": {
    "tags": []
   },
   "outputs": [
    {
     "data": {
      "application/vnd.jupyter.widget-view+json": {
       "model_id": "635b5593af794060a9a8ad51e59536f4",
       "version_major": 2,
       "version_minor": 0
      },
      "text/plain": [
       "WebGuiWidget(layout=Layout(height='50vh', width='100%'), value={'gui_settings': {}, 'ngsolve_version': '6.2.23…"
      ]
     },
     "metadata": {},
     "output_type": "display_data"
    },
    {
     "data": {
      "text/plain": [
       "BaseWebGuiScene"
      ]
     },
     "execution_count": 2,
     "metadata": {},
     "output_type": "execute_result"
    }
   ],
   "source": [
    "box = (0, 1.6, 0, 0.7)\n",
    "bottom_gap = 0.08\n",
    "shape_parameter = (0.06, bottom_gap , 60)\n",
    "domain = DomainParallelogramBottom(\n",
    "    box=box, shape_parameter=shape_parameter, bottom_gap=bottom_gap\n",
    ")\n",
    "\n",
    "geo = domain.geometry_info()\n",
    "geoMesh = geo.GenerateMesh(maxh=0.01)\n",
    "mesh = Mesh(geoMesh)\n",
    "Draw(mesh)"
   ]
  },
  {
   "cell_type": "code",
   "execution_count": 32,
   "id": "16cb9981-1b04-4441-a148-7fa4b0aa61f8",
   "metadata": {
    "tags": []
   },
   "outputs": [
    {
     "name": "stdout",
     "output_type": "stream",
     "text": [
      "Mesh file ./mesh_data/test3_102_b60.vol already exists, skipping save.\n",
      "run serial_construct_matrix with time: 0.2684513999847695\n",
      "run serial_construct_matrix with time: 0.0481904000043869\n",
      "0.99465\n"
     ]
    }
   ],
   "source": [
    "from scipy.io import loadmat\n",
    "\n",
    "file = './test3_80_b60/solution_data/u0.mat'\n",
    "file = './test3_80_b60/solution_data/000_DDD.mat'\n",
    "file = './test3_80_b60/solution_data/1000_DDDD_L.mat'\n",
    "file = './test3_80_b60/solution_data/0000_DDDD_L.mat'\n",
    "file = './test3_80_b60/solution_data/0001_DDDD_L.mat'\n",
    "file = './test3_80_b60/solution_data/000_DDD_L.mat'\n",
    "\n",
    "\n",
    "data = loadmat(file)\n",
    "upy = data['u'].flatten()\n",
    "\n",
    "pde = DropletLattice(domain =domain, theta = 80, mesh_file = './mesh_data/test3_102_b60.vol')\n",
    "space = LagrangeFiniteElementSpace(pde.mesh, 1)\n",
    "p = space.interpolation_points()\n",
    "u = space.function()\n",
    "u[:] = upy\n",
    "solver = ChisdAllenCahn(pde)\n",
    "print(\"{:.5f}\".format(solver.fenergy(u)))"
   ]
  },
  {
   "cell_type": "code",
   "execution_count": 27,
   "id": "952b0f15-8823-4dc6-aef5-537cccf2e947",
   "metadata": {
    "tags": []
   },
   "outputs": [
    {
     "data": {
      "application/vnd.jupyter.widget-view+json": {
       "model_id": "c9591e02c2cb4df1a64410bff907cd9e",
       "version_major": 2,
       "version_minor": 0
      },
      "text/plain": [
       "WebGuiWidget(layout=Layout(height='50vh', width='100%'), value={'gui_settings': {}, 'ngsolve_version': '6.2.23…"
      ]
     },
     "metadata": {},
     "output_type": "display_data"
    },
    {
     "data": {
      "text/plain": [
       "BaseWebGuiScene"
      ]
     },
     "execution_count": 27,
     "metadata": {},
     "output_type": "execute_result"
    }
   ],
   "source": [
    "fes = H1(mesh, order=1)\n",
    "gfu = GridFunction(fes)\n",
    "gfu.vec[:] = u\n",
    "Draw(gfu)"
   ]
  },
  {
   "cell_type": "code",
   "execution_count": null,
   "id": "262d7f03-1a13-4c4b-9c5f-f6c05e0527ac",
   "metadata": {},
   "outputs": [],
   "source": []
  }
 ],
 "metadata": {
  "kernelspec": {
   "display_name": "Python [conda env:pde_py39]",
   "language": "python",
   "name": "conda-env-pde_py39-py"
  },
  "language_info": {
   "codemirror_mode": {
    "name": "ipython",
    "version": 3
   },
   "file_extension": ".py",
   "mimetype": "text/x-python",
   "name": "python",
   "nbconvert_exporter": "python",
   "pygments_lexer": "ipython3",
   "version": "3.9.17"
  }
 },
 "nbformat": 4,
 "nbformat_minor": 5
}
