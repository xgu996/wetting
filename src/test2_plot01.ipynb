{
 "cells": [
  {
   "cell_type": "code",
   "execution_count": 7,
   "id": "6498b22c",
   "metadata": {
    "tags": []
   },
   "outputs": [],
   "source": [
    "import math\n",
    "from math import pi\n",
    "\n",
    "import netgen.geom2d as g2d\n",
    "from ngsolve import *\n",
    "from ngsolve.webgui import Draw\n",
    "\n",
    "import sys\n",
    "\n",
    "sys.path.append(\"..\")\n",
    "\n",
    "import numpy as np\n",
    "from scipy.io import loadmat, savemat\n",
    "import matplotlib.pyplot as plt\n",
    "\n",
    "from fealpy.functionspace import LagrangeFiniteElementSpace\n",
    "\n",
    "from mesh_generator import DomainRectangularBottom\n",
    "from chisd_allencahn import ChisdAllenCahn\n",
    "from model_data import DropletLattice"
   ]
  },
  {
   "cell_type": "code",
   "execution_count": 8,
   "id": "dbd98ce2",
   "metadata": {
    "tags": []
   },
   "outputs": [
    {
     "data": {
      "application/vnd.jupyter.widget-view+json": {
       "model_id": "ca6119bd7fb046af8d189c8bb2edf1be",
       "version_major": 2,
       "version_minor": 0
      },
      "text/plain": [
       "WebGuiWidget(layout=Layout(height='500px', width='100%'), value={'gui_settings': {}, 'ngsolve_version': '6.2.2…"
      ]
     },
     "metadata": {},
     "output_type": "display_data"
    },
    {
     "data": {
      "text/plain": [
       "BaseWebGuiScene"
      ]
     },
     "execution_count": 8,
     "metadata": {},
     "output_type": "execute_result"
    }
   ],
   "source": [
    "box = (0, 1.6, 0, 0.7)\n",
    "bottom_gap = 0.06\n",
    "shape_parameter = (0.045, 0.1)\n",
    "domain = DomainRectangularBottom(\n",
    "    box=box, shape_parameter=shape_parameter, bottom_gap=bottom_gap\n",
    ")\n",
    "geo = domain.geometry_info()\n",
    "geoMesh = geo.GenerateMesh(maxh=0.01)\n",
    "\n",
    "# mesh = Mesh('./test2/mesh_data/test2.vol')\n",
    "mesh = Mesh(geoMesh)\n",
    "Draw(mesh)"
   ]
  },
  {
   "cell_type": "code",
   "execution_count": 14,
   "id": "de387850",
   "metadata": {
    "tags": []
   },
   "outputs": [
    {
     "name": "stdout",
     "output_type": "stream",
     "text": [
      "Mesh file ./test2/mesh_data/test2.vol already exists, skipping save.\n"
     ]
    },
    {
     "ename": "ValueError",
     "evalue": "could not broadcast input array from shape (11774,) into shape (11692,)",
     "output_type": "error",
     "traceback": [
      "\u001b[0;31m---------------------------------------------------------------------------\u001b[0m",
      "\u001b[0;31mValueError\u001b[0m                                Traceback (most recent call last)",
      "Cell \u001b[0;32mIn[14], line 18\u001b[0m\n\u001b[1;32m     16\u001b[0m p \u001b[38;5;241m=\u001b[39m space\u001b[38;5;241m.\u001b[39minterpolation_points()\n\u001b[1;32m     17\u001b[0m u \u001b[38;5;241m=\u001b[39m space\u001b[38;5;241m.\u001b[39mfunction()\n\u001b[0;32m---> 18\u001b[0m \u001b[43mu\u001b[49m\u001b[43m[\u001b[49m\u001b[43m:\u001b[49m\u001b[43m]\u001b[49m \u001b[38;5;241m=\u001b[39m upy\n\u001b[1;32m     19\u001b[0m \u001b[38;5;66;03m# u[:] = pde.initial_value(p, center = 0.8)\u001b[39;00m\n\u001b[1;32m     20\u001b[0m solver \u001b[38;5;241m=\u001b[39m ChisdAllenCahn(pde)\n",
      "\u001b[0;31mValueError\u001b[0m: could not broadcast input array from shape (11774,) into shape (11692,)"
     ]
    }
   ],
   "source": [
    "# file = './test2/solution_data/000_UUD.mat'\n",
    "file = './test2/solution_data/0000_UUUU.mat'\n",
    "# file = './test2/solution_data/0000_UUUD.mat'\n",
    "# file = './test2/solution_data/0010_UUDD.mat'\n",
    "# file = './test2/solution_data/0000_UUDD.mat'\n",
    "# file = './test2/solution_data/0100_UDDD.mat'\n",
    "# file = './test2/solution_data/0000_UDDD.mat'\n",
    "# file = './test2/solution_data/1000_DDDD.mat'\n",
    "# file = './test2/solution_data/0000_DDDD.mat'\n",
    "\n",
    "data = loadmat(file)\n",
    "upy = data['u'].flatten()\n",
    "# show energy\n",
    "pde = DropletLattice(domain =domain, mesh_file = './test2/mesh_data/test2.vol')\n",
    "space = LagrangeFiniteElementSpace(pde.mesh, 1)\n",
    "p = space.interpolation_points()\n",
    "u = space.function()\n",
    "u[:] = upy\n",
    "# u[:] = pde.initial_value(p, center = 0.8)\n",
    "solver = ChisdAllenCahn(pde)\n",
    "print(\"{:.5f}\".format(solver.fenergy(u)))"
   ]
  },
  {
   "cell_type": "code",
   "execution_count": 13,
   "id": "5e70d704",
   "metadata": {
    "tags": []
   },
   "outputs": [
    {
     "data": {
      "application/vnd.jupyter.widget-view+json": {
       "model_id": "2e3719a16d6e49d7acd5cd5ee0f0e752",
       "version_major": 2,
       "version_minor": 0
      },
      "text/plain": [
       "WebGuiWidget(layout=Layout(height='500px', width='100%'), value={'gui_settings': {}, 'ngsolve_version': '6.2.2…"
      ]
     },
     "metadata": {},
     "output_type": "display_data"
    },
    {
     "data": {
      "text/plain": [
       "BaseWebGuiScene"
      ]
     },
     "execution_count": 13,
     "metadata": {},
     "output_type": "execute_result"
    }
   ],
   "source": [
    "fes = H1(mesh, order=1)\n",
    "gfu = GridFunction(fes)\n",
    "gfu.vec[:] = u[:]\n",
    "Draw(gfu)"
   ]
  },
  {
   "cell_type": "code",
   "execution_count": null,
   "id": "a06e2dbe",
   "metadata": {},
   "outputs": [],
   "source": []
  },
  {
   "cell_type": "code",
   "execution_count": null,
   "id": "d899dca2-f061-4ed2-b03d-5fdfb4b03b93",
   "metadata": {},
   "outputs": [],
   "source": []
  }
 ],
 "metadata": {
  "kernelspec": {
   "display_name": "ng",
   "language": "python",
   "name": "python3"
  },
  "language_info": {
   "codemirror_mode": {
    "name": "ipython",
    "version": 3
   },
   "file_extension": ".py",
   "mimetype": "text/x-python",
   "name": "python",
   "nbconvert_exporter": "python",
   "pygments_lexer": "ipython3",
   "version": "3.8.18"
  }
 },
 "nbformat": 4,
 "nbformat_minor": 5
}
