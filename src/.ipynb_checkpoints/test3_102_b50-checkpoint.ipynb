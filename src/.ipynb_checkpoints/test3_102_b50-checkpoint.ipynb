{
 "cells": [
  {
   "cell_type": "code",
   "execution_count": 4,
   "id": "1db06926-c750-42b0-9fed-d9576218f1b6",
   "metadata": {
    "tags": []
   },
   "outputs": [],
   "source": [
    "import math\n",
    "from math import pi\n",
    "\n",
    "import netgen.geom2d as g2d\n",
    "from ngsolve import *\n",
    "from ngsolve.webgui import Draw\n",
    "\n",
    "import sys\n",
    "\n",
    "sys.path.append(\"..\")\n",
    "\n",
    "import numpy as np\n",
    "from scipy.io import loadmat, savemat\n",
    "import matplotlib.pyplot as plt\n",
    "\n",
    "from fealpy.functionspace import LagrangeFiniteElementSpace\n",
    "\n",
    "from mesh_generator import DomainParallelogramBottom\n",
    "from chisd_allencahn import ChisdAllenCahn\n",
    "from model_data import DropletLattice"
   ]
  },
  {
   "cell_type": "code",
   "execution_count": 5,
   "id": "be7b20fb-1537-4429-9302-55ec1ffc2137",
   "metadata": {
    "tags": []
   },
   "outputs": [
    {
     "data": {
      "application/vnd.jupyter.widget-view+json": {
       "model_id": "f7dff9c9f7ce42f18cd41bc4b80c27d2",
       "version_major": 2,
       "version_minor": 0
      },
      "text/plain": [
       "WebGuiWidget(layout=Layout(height='50vh', width='100%'), value={'gui_settings': {}, 'ngsolve_version': '6.2.23…"
      ]
     },
     "metadata": {},
     "output_type": "display_data"
    },
    {
     "data": {
      "text/plain": [
       "BaseWebGuiScene"
      ]
     },
     "execution_count": 5,
     "metadata": {},
     "output_type": "execute_result"
    }
   ],
   "source": [
    "box = (0, 1.6, 0, 0.7)\n",
    "bottom_gap = 0.08\n",
    "shape_parameter = (0.06, bottom_gap , 50)\n",
    "domain = DomainParallelogramBottom(\n",
    "    box=box, shape_parameter=shape_parameter, bottom_gap=bottom_gap\n",
    ")\n",
    "\n",
    "geo = domain.geometry_info()\n",
    "geoMesh = geo.GenerateMesh(maxh=0.01)\n",
    "mesh = Mesh(geoMesh)\n",
    "Draw(mesh)"
   ]
  },
  {
   "cell_type": "code",
   "execution_count": 17,
   "id": "fbaaf68b-a988-4c69-9440-1de8d9ae773c",
   "metadata": {
    "tags": []
   },
   "outputs": [
    {
     "name": "stdout",
     "output_type": "stream",
     "text": [
      "Mesh file ./mesh_data/test3_102_b50.vol already exists, skipping save.\n",
      "run serial_construct_matrix with time: 0.2609199000003173\n",
      "run serial_construct_matrix with time: 0.04622659999995449\n",
      "0.80124\n"
     ]
    }
   ],
   "source": [
    "from scipy.io import loadmat\n",
    "\n",
    "file = './test3_102_b50/solution_data/u0.mat'\n",
    "file = './test3_102_b50/solution_data/000_UUU.mat'\n",
    "file = './test3_102_b50/solution_data/001_UUU.mat'\n",
    "file = './test3_102_b50/solution_data/00_UU_L.mat'\n",
    "file = './test3_102_b50/solution_data/100_UUU_L.mat'\n",
    "file = './test3_102_b50/solution_data/000_UUU_L.mat'\n",
    "data = loadmat(file)\n",
    "upy = data['u'].flatten()\n",
    "\n",
    "\n",
    "pde = DropletLattice(domain =domain, mesh_file = './mesh_data/test3_102_b50.vol')\n",
    "space = LagrangeFiniteElementSpace(pde.mesh, 1)\n",
    "p = space.interpolation_points()\n",
    "u = space.function()\n",
    "# center = (domain.box[0] + domain.box[1])/2\n",
    "# u[:] = pde.initial_value(p, center = center-0.04)\n",
    "u[:] = upy\n",
    "solver = ChisdAllenCahn(pde)\n",
    "print(\"{:.5f}\".format(solver.fenergy(u)))"
   ]
  },
  {
   "cell_type": "code",
   "execution_count": 18,
   "id": "dbbf60f9-c934-4560-84ec-31f767d54497",
   "metadata": {
    "tags": []
   },
   "outputs": [
    {
     "data": {
      "application/vnd.jupyter.widget-view+json": {
       "model_id": "8b1aa82fec8e4981afaee5ae7d54a728",
       "version_major": 2,
       "version_minor": 0
      },
      "text/plain": [
       "WebGuiWidget(layout=Layout(height='50vh', width='100%'), value={'gui_settings': {}, 'ngsolve_version': '6.2.23…"
      ]
     },
     "metadata": {},
     "output_type": "display_data"
    },
    {
     "data": {
      "text/plain": [
       "BaseWebGuiScene"
      ]
     },
     "execution_count": 18,
     "metadata": {},
     "output_type": "execute_result"
    }
   ],
   "source": [
    "fes = H1(mesh, order=1)\n",
    "gfu = GridFunction(fes)\n",
    "gfu.vec[:] = u\n",
    "Draw(gfu)"
   ]
  },
  {
   "cell_type": "code",
   "execution_count": null,
   "id": "b61d6741-4887-45e0-bd4a-5a58880cb450",
   "metadata": {},
   "outputs": [],
   "source": []
  }
 ],
 "metadata": {
  "kernelspec": {
   "display_name": "ng",
   "language": "python",
   "name": "ng"
  },
  "language_info": {
   "codemirror_mode": {
    "name": "ipython",
    "version": 3
   },
   "file_extension": ".py",
   "mimetype": "text/x-python",
   "name": "python",
   "nbconvert_exporter": "python",
   "pygments_lexer": "ipython3",
   "version": "3.8.18"
  }
 },
 "nbformat": 4,
 "nbformat_minor": 5
}
