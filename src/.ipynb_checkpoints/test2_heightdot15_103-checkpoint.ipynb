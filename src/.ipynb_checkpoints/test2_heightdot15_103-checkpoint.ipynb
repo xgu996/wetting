{
 "cells": [
  {
   "cell_type": "code",
   "execution_count": 1,
   "id": "5b2bd0f6-7fa5-432c-9173-897240762818",
   "metadata": {
    "tags": []
   },
   "outputs": [],
   "source": [
    "import math\n",
    "from math import pi\n",
    "\n",
    "import netgen.geom2d as g2d\n",
    "from ngsolve import *\n",
    "from ngsolve.webgui import Draw\n",
    "\n",
    "import sys\n",
    "\n",
    "sys.path.append(\"..\")\n",
    "\n",
    "import numpy as np\n",
    "from scipy.io import loadmat, savemat\n",
    "import matplotlib.pyplot as plt\n",
    "\n",
    "from fealpy.functionspace import LagrangeFiniteElementSpace\n",
    "\n",
    "from mesh_generator import DomainRectangularBottom\n",
    "from chisd_allencahn import ChisdAllenCahn\n",
    "from model_data import DropletLattice"
   ]
  },
  {
   "cell_type": "code",
   "execution_count": 2,
   "id": "fe7d9354-a739-4371-9aba-91af8260ef1c",
   "metadata": {
    "tags": []
   },
   "outputs": [
    {
     "data": {
      "application/vnd.jupyter.widget-view+json": {
       "model_id": "c8f2a2c0359747f686f83616e4564ebb",
       "version_major": 2,
       "version_minor": 0
      },
      "text/plain": [
       "WebGuiWidget(layout=Layout(height='50vh', width='100%'), value={'gui_settings': {}, 'ngsolve_version': '6.2.23…"
      ]
     },
     "metadata": {},
     "output_type": "display_data"
    },
    {
     "data": {
      "text/plain": [
       "BaseWebGuiScene"
      ]
     },
     "execution_count": 2,
     "metadata": {},
     "output_type": "execute_result"
    }
   ],
   "source": [
    "box = (0, 1.6, 0, 0.7)\n",
    "bottom_gap = 0.06\n",
    "shape_parameter = (0.045, 0.15)\n",
    "domain = DomainRectangularBottom(\n",
    "    box=box, shape_parameter=shape_parameter, bottom_gap=bottom_gap\n",
    ")\n",
    "geo = domain.geometry_info()\n",
    "geoMesh = geo.GenerateMesh(maxh=0.01)\n",
    "\n",
    "mesh = Mesh(geoMesh)\n",
    "Draw(mesh)"
   ]
  },
  {
   "cell_type": "code",
   "execution_count": 7,
   "id": "9883dad5-b39b-4e7d-93e8-06ca10fb71e1",
   "metadata": {
    "tags": []
   },
   "outputs": [
    {
     "name": "stdout",
     "output_type": "stream",
     "text": [
      "Mesh file ./test2_heightdot15_105/mesh_data/test2_heightdot15.vol already exists, skipping save.\n",
      "run serial_construct_matrix with time: 0.16444133400000283\n",
      "run serial_construct_matrix with time: 0.03166270799999893\n",
      "0.58961\n"
     ]
    }
   ],
   "source": [
    "from scipy.io import loadmat\n",
    "file = './test2_heightdot15_103/solution_data/0000_UUUU.mat'\n",
    "# file = './test2_heightdot15_105/solution_data/0001_UUUD.mat'\n",
    "# file = './test2_heightdot15_105/solution_data/0000_UUUD.mat'\n",
    "data = loadmat(file)\n",
    "upy = data['u'].flatten()\n",
    "\n",
    "pde = DropletLattice(domain =domain, theta=103, mesh_file = './test2_heightdot15_105/mesh_data/test2_heightdot15.vol')\n",
    "\n",
    "space = LagrangeFiniteElementSpace(pde.mesh, 1)\n",
    "p = space.interpolation_points()\n",
    "u = space.function()\n",
    "# center = (domain.box[0] + domain.box[1])/2\n",
    "u[:] = data['u'].flatten()\n",
    "# u[:] = pde.initial_value(p, center = center)\n",
    "solver = ChisdAllenCahn(pde)\n",
    "print(\"{:.5f}\".format(solver.fenergy(u)))"
   ]
  },
  {
   "cell_type": "code",
   "execution_count": 8,
   "id": "a327fe4d-224a-40de-9708-69d5af7a2f00",
   "metadata": {
    "tags": []
   },
   "outputs": [
    {
     "data": {
      "application/vnd.jupyter.widget-view+json": {
       "model_id": "5c97d1ac01b34b868a62bced520004a4",
       "version_major": 2,
       "version_minor": 0
      },
      "text/plain": [
       "WebGuiWidget(layout=Layout(height='50vh', width='100%'), value={'gui_settings': {}, 'ngsolve_version': '6.2.23…"
      ]
     },
     "metadata": {},
     "output_type": "display_data"
    },
    {
     "data": {
      "text/plain": [
       "BaseWebGuiScene"
      ]
     },
     "execution_count": 8,
     "metadata": {},
     "output_type": "execute_result"
    }
   ],
   "source": [
    "fes = H1(mesh, order=1)\n",
    "gfu = GridFunction(fes)\n",
    "gfu.vec[:] = u\n",
    "Draw(gfu)"
   ]
  },
  {
   "cell_type": "code",
   "execution_count": null,
   "id": "dc89a249-684b-4b5e-8c9e-c0fe674f2e49",
   "metadata": {},
   "outputs": [],
   "source": []
  }
 ],
 "metadata": {
  "kernelspec": {
   "display_name": "ng",
   "language": "python",
   "name": "ng"
  },
  "language_info": {
   "codemirror_mode": {
    "name": "ipython",
    "version": 3
   },
   "file_extension": ".py",
   "mimetype": "text/x-python",
   "name": "python",
   "nbconvert_exporter": "python",
   "pygments_lexer": "ipython3",
   "version": "3.8.18"
  }
 },
 "nbformat": 4,
 "nbformat_minor": 5
}
