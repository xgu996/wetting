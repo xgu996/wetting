{
 "cells": [
  {
   "cell_type": "code",
   "execution_count": 1,
   "id": "ec65848c-82b3-4fba-ad27-92794ff097c0",
   "metadata": {},
   "outputs": [],
   "source": [
    "import math\n",
    "from math import pi\n",
    "\n",
    "import netgen.geom2d as g2d\n",
    "from ngsolve import *\n",
    "from ngsolve.webgui import Draw\n",
    "\n",
    "import sys\n",
    "\n",
    "sys.path.append(\"..\")\n",
    "\n",
    "import numpy as np\n",
    "from scipy.io import loadmat, savemat\n",
    "import matplotlib.pyplot as plt\n",
    "\n",
    "from fealpy.functionspace import LagrangeFiniteElementSpace\n",
    "\n",
    "from mesh_generator import DomainParallelogramBottom\n",
    "from chisd_allencahn import ChisdAllenCahn\n",
    "from model_data import DropletLattice"
   ]
  },
  {
   "cell_type": "code",
   "execution_count": 2,
   "id": "f51ac6f9-8119-4d5e-9e42-9479a31b9b6f",
   "metadata": {},
   "outputs": [
    {
     "data": {
      "application/vnd.jupyter.widget-view+json": {
       "model_id": "ce15fc4284514e7b89a00c3917e83fa7",
       "version_major": 2,
       "version_minor": 0
      },
      "text/plain": [
       "WebGuiWidget(layout=Layout(height='50vh', width='100%'), value={'gui_settings': {}, 'ngsolve_version': '6.2.23…"
      ]
     },
     "metadata": {},
     "output_type": "display_data"
    },
    {
     "data": {
      "text/plain": [
       "BaseWebGuiScene"
      ]
     },
     "execution_count": 2,
     "metadata": {},
     "output_type": "execute_result"
    }
   ],
   "source": [
    "box = (0, 1.6, 0, 0.7)\n",
    "bottom_gap = 0.08\n",
    "shape_parameter = (0.06, bottom_gap * 0.8, 40)\n",
    "domain = DomainParallelogramBottom(\n",
    "    box=box, shape_parameter=shape_parameter, bottom_gap=bottom_gap\n",
    ")\n",
    "mesh = Mesh('./test3_70/mesh_data/lattice_0.01.vol')\n",
    "Draw(mesh)"
   ]
  },
  {
   "cell_type": "code",
   "execution_count": 24,
   "id": "5b6f4c94-5791-4397-b012-1a8a477bfa9a",
   "metadata": {},
   "outputs": [
    {
     "name": "stdout",
     "output_type": "stream",
     "text": [
      "Mesh file ./test3_70/mesh_data/lattice_0.01.vol already exists, skipping save.\n",
      "run serial_construct_matrix with time: 0.2898624999997992\n",
      "run serial_construct_matrix with time: 0.045184799999333336\n",
      "3.826782088706344\n"
     ]
    }
   ],
   "source": [
    "from scipy.io import loadmat\n",
    "\n",
    "file = './test3_70/solution_data/u0.mat'\n",
    "# file = './test3_70/solution_data/000_UUU.mat'\n",
    "# file = './test3_70/solution_data/1000_DDDD.mat'\n",
    "# file = './test3_70/solution_data/0000_DDDD.mat'\n",
    "# file = './test3_70/solution_data/0001_DDDD.mat'\n",
    "# file = './test3_70/solution_data/000_DDD_L.mat'\n",
    "\n",
    "data = loadmat(file)\n",
    "upy = data['u'].flatten()\n",
    "# show energy\n",
    "pde = DropletLattice(domain =domain, theta = 70, mesh_file = './test3_70/mesh_data/lattice_0.01.vol')\n",
    "space = LagrangeFiniteElementSpace(pde.mesh, 1)\n",
    "p = space.interpolation_points()\n",
    "u = space.function()\n",
    "u[:] = upy\n",
    "solver = ChisdAllenCahn(pde)\n",
    "print(solver.fenergy(u))"
   ]
  },
  {
   "cell_type": "code",
   "execution_count": 25,
   "id": "cfbfcee5-6461-40ee-a352-94c60a7119d1",
   "metadata": {},
   "outputs": [
    {
     "data": {
      "application/vnd.jupyter.widget-view+json": {
       "model_id": "2b61ee89b5bc475f9fc41dce85b16c43",
       "version_major": 2,
       "version_minor": 0
      },
      "text/plain": [
       "WebGuiWidget(layout=Layout(height='50vh', width='100%'), value={'gui_settings': {}, 'ngsolve_version': '6.2.23…"
      ]
     },
     "metadata": {},
     "output_type": "display_data"
    },
    {
     "data": {
      "text/plain": [
       "BaseWebGuiScene"
      ]
     },
     "execution_count": 25,
     "metadata": {},
     "output_type": "execute_result"
    }
   ],
   "source": [
    "fes = H1(mesh, order=1)\n",
    "gfu = GridFunction(fes)\n",
    "gfu.vec.data[:] = upy\n",
    "Draw(gfu)"
   ]
  },
  {
   "cell_type": "code",
   "execution_count": null,
   "id": "c987dbbf-703e-48d5-a816-1a9a894a9abf",
   "metadata": {},
   "outputs": [],
   "source": []
  }
 ],
 "metadata": {
  "kernelspec": {
   "display_name": "Python [conda env:pde_py39]",
   "language": "python",
   "name": "conda-env-pde_py39-py"
  },
  "language_info": {
   "codemirror_mode": {
    "name": "ipython",
    "version": 3
   },
   "file_extension": ".py",
   "mimetype": "text/x-python",
   "name": "python",
   "nbconvert_exporter": "python",
   "pygments_lexer": "ipython3",
   "version": "3.9.17"
  }
 },
 "nbformat": 4,
 "nbformat_minor": 5
}
