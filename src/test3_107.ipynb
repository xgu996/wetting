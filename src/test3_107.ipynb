{
 "cells": [
  {
   "cell_type": "code",
   "execution_count": 1,
   "id": "e41c6323",
   "metadata": {
    "tags": []
   },
   "outputs": [],
   "source": [
    "import math\n",
    "from math import pi\n",
    "\n",
    "import netgen.geom2d as g2d\n",
    "from ngsolve import *\n",
    "from ngsolve.webgui import Draw\n",
    "\n",
    "import sys\n",
    "\n",
    "sys.path.append(\"..\")\n",
    "\n",
    "import numpy as np\n",
    "from scipy.io import loadmat, savemat\n",
    "import matplotlib.pyplot as plt\n",
    "\n",
    "from fealpy.functionspace import LagrangeFiniteElementSpace\n",
    "\n",
    "from mesh_generator import DomainParallelogramBottom\n",
    "from chisd_allencahn import ChisdAllenCahn\n",
    "from model_data import DropletLattice"
   ]
  },
  {
   "cell_type": "code",
   "execution_count": 2,
   "id": "aa41fe74",
   "metadata": {
    "tags": []
   },
   "outputs": [
    {
     "data": {
      "application/vnd.jupyter.widget-view+json": {
       "model_id": "288dbed7b90f44c5a4d5daa058f35ddc",
       "version_major": 2,
       "version_minor": 0
      },
      "text/plain": [
       "WebGuiWidget(layout=Layout(height='50vh', width='100%'), value={'gui_settings': {}, 'ngsolve_version': '6.2.23…"
      ]
     },
     "metadata": {},
     "output_type": "display_data"
    },
    {
     "data": {
      "text/plain": [
       "BaseWebGuiScene"
      ]
     },
     "execution_count": 2,
     "metadata": {},
     "output_type": "execute_result"
    }
   ],
   "source": [
    "box = (0, 1.6, 0, 0.7)\n",
    "bottom_gap = 0.08\n",
    "shape_parameter = (0.06, bottom_gap * 0.8, 40)\n",
    "domain = DomainParallelogramBottom(\n",
    "    box=box, shape_parameter=shape_parameter, bottom_gap=bottom_gap\n",
    ")\n",
    "mesh = Mesh('./test3_107/mesh_data/lattice_0.01.vol')\n",
    "Draw(mesh)"
   ]
  },
  {
   "cell_type": "code",
   "execution_count": 16,
   "id": "ffd5a959",
   "metadata": {
    "tags": []
   },
   "outputs": [
    {
     "name": "stdout",
     "output_type": "stream",
     "text": [
      "Mesh file ./test3_107/mesh_data/lattice_0.01.vol already exists, skipping save.\n",
      "run serial_construct_matrix with time: 0.27709529999998495\n",
      "run serial_construct_matrix with time: 0.04746459999998365\n",
      "0.66953\n"
     ]
    }
   ],
   "source": [
    "from scipy.io import loadmat\n",
    "\n",
    "# file = './test3_107/solution_data/u0.mat'\n",
    "file = './test3_107/solution_data/000_UUU.mat'\n",
    "file = './test3_107/solution_data/001_UUU.mat'\n",
    "# file = './test3_107/solution_data/100_UUU.mat'\n",
    "file = './test3_107/solution_data/00_UU_L.mat'\n",
    "file = './test3_107/solution_data/100_UUU_L.mat'\n",
    "file = './test3_107/solution_data/000_UUU_L.mat'\n",
    "\n",
    "data = loadmat(file)\n",
    "upy = data['u'].flatten()\n",
    "# show energy\n",
    "pde = DropletLattice(domain =domain, theta = 107, mesh_file = './test3_107/mesh_data/lattice_0.01.vol')\n",
    "space = LagrangeFiniteElementSpace(pde.mesh, 1)\n",
    "p = space.interpolation_points()\n",
    "u = space.function()\n",
    "u[:] = upy\n",
    "solver = ChisdAllenCahn(pde)\n",
    "print(\"{:.5f}\".format(solver.fenergy(u)))"
   ]
  },
  {
   "cell_type": "code",
   "execution_count": 17,
   "id": "b0e50d3f",
   "metadata": {
    "tags": []
   },
   "outputs": [
    {
     "data": {
      "application/vnd.jupyter.widget-view+json": {
       "model_id": "e2c94dc2a2aa4cedaf50013e5c33fe57",
       "version_major": 2,
       "version_minor": 0
      },
      "text/plain": [
       "WebGuiWidget(layout=Layout(height='50vh', width='100%'), value={'gui_settings': {}, 'ngsolve_version': '6.2.23…"
      ]
     },
     "metadata": {},
     "output_type": "display_data"
    },
    {
     "data": {
      "text/plain": [
       "BaseWebGuiScene"
      ]
     },
     "execution_count": 17,
     "metadata": {},
     "output_type": "execute_result"
    }
   ],
   "source": [
    "fes = H1(mesh, order=1)\n",
    "gfu = GridFunction(fes)\n",
    "gfu.vec[:] = upy\n",
    "Draw(gfu)"
   ]
  },
  {
   "cell_type": "code",
   "execution_count": null,
   "id": "d06a34ea",
   "metadata": {},
   "outputs": [],
   "source": []
  }
 ],
 "metadata": {
  "kernelspec": {
   "display_name": "ng",
   "language": "python",
   "name": "ng"
  },
  "language_info": {
   "codemirror_mode": {
    "name": "ipython",
    "version": 3
   },
   "file_extension": ".py",
   "mimetype": "text/x-python",
   "name": "python",
   "nbconvert_exporter": "python",
   "pygments_lexer": "ipython3",
   "version": "3.8.18"
  }
 },
 "nbformat": 4,
 "nbformat_minor": 5
}
