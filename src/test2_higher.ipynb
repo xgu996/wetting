{
 "cells": [
  {
   "cell_type": "code",
   "execution_count": 1,
   "id": "95f21a58",
   "metadata": {
    "tags": []
   },
   "outputs": [],
   "source": [
    "import math\n",
    "from math import pi\n",
    "\n",
    "import netgen.geom2d as g2d\n",
    "from ngsolve import *\n",
    "from ngsolve.webgui import Draw\n",
    "\n",
    "import sys\n",
    "\n",
    "sys.path.append(\"..\")\n",
    "\n",
    "import numpy as np\n",
    "from scipy.io import loadmat, savemat\n",
    "import matplotlib.pyplot as plt\n",
    "\n",
    "from fealpy.functionspace import LagrangeFiniteElementSpace\n",
    "\n",
    "from mesh_generator import DomainRectangularBottom\n",
    "from chisd_allencahn import ChisdAllenCahn\n",
    "from model_data import DropletLattice"
   ]
  },
  {
   "cell_type": "code",
   "execution_count": 2,
   "id": "f97293c2",
   "metadata": {
    "tags": []
   },
   "outputs": [
    {
     "data": {
      "application/vnd.jupyter.widget-view+json": {
       "model_id": "553b80e7257046c7a68f0bc2ed4bba98",
       "version_major": 2,
       "version_minor": 0
      },
      "text/plain": [
       "WebGuiWidget(layout=Layout(height='50vh', width='100%'), value={'gui_settings': {}, 'ngsolve_version': '6.2.23…"
      ]
     },
     "metadata": {},
     "output_type": "display_data"
    },
    {
     "data": {
      "text/plain": [
       "BaseWebGuiScene"
      ]
     },
     "execution_count": 2,
     "metadata": {},
     "output_type": "execute_result"
    }
   ],
   "source": [
    "box = (0, 1.6, 0, 0.7)\n",
    "bottom_gap = 0.06\n",
    "shape_parameter = (0.045, 0.13)\n",
    "domain = DomainRectangularBottom(\n",
    "    box=box, shape_parameter=shape_parameter, bottom_gap=bottom_gap\n",
    ")\n",
    "geo = domain.geometry_info()\n",
    "geoMesh = geo.GenerateMesh(maxh=0.01)\n",
    "\n",
    "mesh = Mesh(geoMesh)\n",
    "Draw(mesh)"
   ]
  },
  {
   "cell_type": "code",
   "execution_count": 13,
   "id": "96f34271",
   "metadata": {
    "tags": []
   },
   "outputs": [
    {
     "name": "stdout",
     "output_type": "stream",
     "text": [
      "Mesh file ./test2_higher/mesh_data/test2_higher.vol already exists, skipping save.\n",
      "run serial_construct_matrix with time: 0.24881129999999985\n",
      "run serial_construct_matrix with time: 0.04123290000001134\n",
      "0.66377\n"
     ]
    }
   ],
   "source": [
    "# data = loadmat('./test2_wider/solution_data/111_DDD.mat')\n",
    "data = loadmat('./test2_higher/solution_data/0001_UUUD.mat')\n",
    "data = loadmat('./test2_higher/solution_data/0000_UUUD.mat')\n",
    "# data = loadmat('./test2_higher/solution_data/0010_UUDD.mat')\n",
    "# data = loadmat('./test2_higher/solution_data/0000_UUDD.mat')\n",
    "# data = loadmat('./test2_higher/solution_data/0100_UDDD.mat')\n",
    "# data = loadmat('./test2_higher/solution_data/0000_UDDD.mat')\n",
    "# data = loadmat('./test2_higher/solution_data/1000_DDDD.mat')\n",
    "# data = loadmat('./test2_higher/solution_data/0000_UUUU.mat')\n",
    "\n",
    "pde = DropletLattice(domain =domain,  mesh_file = './test2_higher/mesh_data/test2_higher.vol')\n",
    "\n",
    "space = LagrangeFiniteElementSpace(pde.mesh, 1)\n",
    "p = space.interpolation_points()\n",
    "u = space.function()\n",
    "center = (domain.box[0] + domain.box[1])/2\n",
    "u[:] = data['u'].flatten()\n",
    "# u[:] = pde.initial_value(p, center = center)\n",
    "solver = ChisdAllenCahn(pde)\n",
    "print(\"{:.5f}\".format(solver.fenergy(u)))"
   ]
  },
  {
   "cell_type": "code",
   "execution_count": 14,
   "id": "98a4b589",
   "metadata": {
    "tags": []
   },
   "outputs": [
    {
     "data": {
      "application/vnd.jupyter.widget-view+json": {
       "model_id": "ada7f6ab3d594101ba5598acf045103a",
       "version_major": 2,
       "version_minor": 0
      },
      "text/plain": [
       "WebGuiWidget(layout=Layout(height='50vh', width='100%'), value={'gui_settings': {}, 'ngsolve_version': '6.2.23…"
      ]
     },
     "metadata": {},
     "output_type": "display_data"
    },
    {
     "data": {
      "text/plain": [
       "BaseWebGuiScene"
      ]
     },
     "execution_count": 14,
     "metadata": {},
     "output_type": "execute_result"
    }
   ],
   "source": [
    "fes = H1(mesh, order=1)\n",
    "gfu = GridFunction(fes)\n",
    "gfu.vec[:] = u\n",
    "Draw(gfu)"
   ]
  },
  {
   "cell_type": "code",
   "execution_count": 8,
   "id": "4981f32f",
   "metadata": {
    "tags": []
   },
   "outputs": [],
   "source": [
    "# savemat('./test2_higher/solution_data/0000_UUUU.mat', {'u':u.tolist()})"
   ]
  },
  {
   "cell_type": "code",
   "execution_count": null,
   "id": "f8aad1f5",
   "metadata": {},
   "outputs": [],
   "source": []
  }
 ],
 "metadata": {
  "kernelspec": {
   "display_name": "Python [conda env:pde_py39]",
   "language": "python",
   "name": "conda-env-pde_py39-py"
  },
  "language_info": {
   "codemirror_mode": {
    "name": "ipython",
    "version": 3
   },
   "file_extension": ".py",
   "mimetype": "text/x-python",
   "name": "python",
   "nbconvert_exporter": "python",
   "pygments_lexer": "ipython3",
   "version": "3.9.17"
  }
 },
 "nbformat": 4,
 "nbformat_minor": 5
}
