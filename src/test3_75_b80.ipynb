{
 "cells": [
  {
   "cell_type": "code",
   "execution_count": 1,
   "id": "e7e08261-b508-4f57-aba7-7f66b1f38c0f",
   "metadata": {
    "tags": []
   },
   "outputs": [],
   "source": [
    "import math\n",
    "from math import pi\n",
    "\n",
    "import netgen.geom2d as g2d\n",
    "from ngsolve import *\n",
    "from ngsolve.webgui import Draw\n",
    "\n",
    "import sys\n",
    "\n",
    "sys.path.append(\"..\")\n",
    "\n",
    "import numpy as np\n",
    "from scipy.io import loadmat, savemat\n",
    "import matplotlib.pyplot as plt\n",
    "\n",
    "from fealpy.functionspace import LagrangeFiniteElementSpace\n",
    "\n",
    "from mesh_generator import DomainParallelogramBottom\n",
    "from chisd_allencahn import ChisdAllenCahn\n",
    "from model_data import DropletLattice"
   ]
  },
  {
   "cell_type": "code",
   "execution_count": 2,
   "id": "efa3bcfc-fb5a-4965-aa6b-44a9bdf9e983",
   "metadata": {
    "tags": []
   },
   "outputs": [
    {
     "data": {
      "application/vnd.jupyter.widget-view+json": {
       "model_id": "55565cabddc9496bb38e19189d913bfc",
       "version_major": 2,
       "version_minor": 0
      },
      "text/plain": [
       "WebGuiWidget(layout=Layout(height='50vh', width='100%'), value={'gui_settings': {}, 'ngsolve_version': '6.2.23…"
      ]
     },
     "metadata": {},
     "output_type": "display_data"
    },
    {
     "data": {
      "text/plain": [
       "BaseWebGuiScene"
      ]
     },
     "execution_count": 2,
     "metadata": {},
     "output_type": "execute_result"
    }
   ],
   "source": [
    "box = (0, 1.6, 0, 0.7)\n",
    "bottom_gap = 0.08\n",
    "shape_parameter = (0.06, bottom_gap , 80)\n",
    "domain = DomainParallelogramBottom(\n",
    "    box=box, shape_parameter=shape_parameter, bottom_gap=bottom_gap\n",
    ")\n",
    "\n",
    "geo = domain.geometry_info()\n",
    "geoMesh = geo.GenerateMesh(maxh=0.01)\n",
    "mesh = Mesh(geoMesh)\n",
    "Draw(mesh)"
   ]
  },
  {
   "cell_type": "code",
   "execution_count": 27,
   "id": "9218cc12-54d2-4ba3-a6da-314f94b441b9",
   "metadata": {
    "tags": []
   },
   "outputs": [
    {
     "name": "stdout",
     "output_type": "stream",
     "text": [
      "Mesh file ./mesh_data/test3_102_b80.vol already exists, skipping save.\n",
      "run serial_construct_matrix with time: 0.10667616600039764\n",
      "run serial_construct_matrix with time: 0.021842582998942817\n",
      "1.04737\n"
     ]
    }
   ],
   "source": [
    "from scipy.io import loadmat\n",
    "\n",
    "file = './test3_75_b80/solution_data/u0.mat'\n",
    "file = './test3_75_b80/solution_data/000_DDD.mat'\n",
    "file = './test3_75_b80/solution_data/1000_DDDD_L.mat'\n",
    "file = './test3_75_b80/solution_data/0000_DDDD_L.mat'\n",
    "file = './test3_75_b80/solution_data/0001_DDDD_L.mat'\n",
    "file = './test3_75_b80/solution_data/000_DDD_L.mat'\n",
    "\n",
    "# file = './test3_80_b80/solution_data/000_DDD_2.mat'\n",
    "data = loadmat(file)\n",
    "upy = data['u'].flatten()\n",
    "\n",
    "pde = DropletLattice(domain =domain, theta = 75, mesh_file = './mesh_data/test3_102_b80.vol')\n",
    "space = LagrangeFiniteElementSpace(pde.mesh, 1)\n",
    "p = space.interpolation_points()\n",
    "u = space.function()\n",
    "u[:] = upy\n",
    "solver = ChisdAllenCahn(pde)\n",
    "print(\"{:.5f}\".format(solver.fenergy(u)))"
   ]
  },
  {
   "cell_type": "code",
   "execution_count": null,
   "id": "660dcfa7",
   "metadata": {
    "tags": []
   },
   "outputs": [],
   "source": [
    "#### fes = H1(mesh, order=1)\n",
    "gfu = GridFunction(fes)\n",
    "gfu.vec[:] = u\n",
    "Draw(gfu)"
   ]
  },
  {
   "cell_type": "code",
   "execution_count": null,
   "id": "97c093ca-3603-4338-b630-aa89ee7c0674",
   "metadata": {},
   "outputs": [],
   "source": []
  }
 ],
 "metadata": {
  "kernelspec": {
   "display_name": "ng",
   "language": "python",
   "name": "ng"
  },
  "language_info": {
   "codemirror_mode": {
    "name": "ipython",
    "version": 3
   },
   "file_extension": ".py",
   "mimetype": "text/x-python",
   "name": "python",
   "nbconvert_exporter": "python",
   "pygments_lexer": "ipython3",
   "version": "3.8.18"
  }
 },
 "nbformat": 4,
 "nbformat_minor": 5
}
