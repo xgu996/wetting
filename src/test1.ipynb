{
 "cells": [
  {
   "cell_type": "code",
   "execution_count": 58,
   "id": "7758d050",
   "metadata": {},
   "outputs": [],
   "source": [
    "from ngsolve import *\n",
    "from ngsolve.webgui import Draw\n",
    "\n",
    "# from mesh.lattice import geometry_info"
   ]
  },
  {
   "cell_type": "code",
   "execution_count": 59,
   "id": "496cc5ad",
   "metadata": {},
   "outputs": [
    {
     "data": {
      "application/vnd.jupyter.widget-view+json": {
       "model_id": "c25d7a5daa2e4405b0d62097094f83fa",
       "version_major": 2,
       "version_minor": 0
      },
      "text/plain": [
       "WebGuiWidget(layout=Layout(height='500px', width='100%'), value={'gui_settings': {}, 'ngsolve_version': '6.2.2…"
      ]
     },
     "metadata": {},
     "output_type": "display_data"
    },
    {
     "data": {
      "text/plain": [
       "BaseWebGuiScene"
      ]
     },
     "execution_count": 59,
     "metadata": {},
     "output_type": "execute_result"
    }
   ],
   "source": [
    "# geo = geometry_info(length = 1.1, height = 0.7, lattice_height = 0.1, lattice_length=0.06, lattice_gap=0.08)\n",
    "# mesh = Mesh(geo.GenerateMesh(maxh = 0.01))\n",
    "mesh = Mesh(\"./test1/mesh_data/test1.vol\")\n",
    "Draw(mesh)"
   ]
  },
  {
   "cell_type": "code",
   "execution_count": 60,
   "id": "bbe3ba6c",
   "metadata": {},
   "outputs": [],
   "source": [
    "from scipy.io import loadmat\n",
    "\n",
    "\n",
    "\n",
    "\n",
    "\n",
    "# file = './data_120_2/initial_condition.mat'\n",
    "# file = './data_120_2/sd0_0.mat'\n",
    "# file = './data_120_2/sd1_0.mat'   \n",
    "# file = './data_120_2/sd2_03.mat'\n",
    "# file = './data_120_2/sd3_0_.mat'\n",
    "# file = './data_120_2/sd0_0_.mat'\n",
    "# file = './data_120_2/sd2_1_.mat'\n",
    "# file = './data_120_2/sd1_0_1.mat'\n",
    "\n",
    "\n",
    "# file = './data_120_2/psd0t1_0.mat'\n",
    "# file = './data_120_2/psd1t2_03.mat'\n",
    "# file = './data_120/psd2t3_0.mat'\n",
    "# file = './data_120_2/psd2t1_0_1.mat'\n",
    "\n",
    "# file = './data_120_2/psd3.mat'\n",
    "# file = './data_120_2/sd3.mat'\n",
    "\n",
    "# file = './data_120_2/tmp.mat'\n",
    "\n",
    "#-------------------data 3-------------------------\n",
    "# 4-saddle\n",
    "# file = './data_120_3/1111_DDDU.mat'\n",
    "\n",
    "# 3-saddle\n",
    "# file = './data_120_3/111_DDD.mat'\n",
    "\n",
    "# 2-addle\n",
    "# file = './data_120_3/011_UDD.mat'\n",
    "# file = './data_120_3/011_DDD.mat'\n",
    "# file = './data_120_3/101_DDD.mat'\n",
    "# file = './data_120_3/101_DUD.mat'\n",
    "\n",
    "# 1-saddle\n",
    "\n",
    "\n",
    "# file = './data_120_3/001_DUD.mat'\n",
    "# file = './data_120_3/001_DDD.mat'\n",
    "# file = './test1/solution_data/001_UUU.mat'\n",
    "# file = './test1/solution_data/000_DDD.mat'\n",
    "# file = './data_120_3/001_UDD.mat'\n",
    "# file = './data_120_3/010_UDU.mat'\n",
    "# file = './data_120_3/010_UDD.mat'\n",
    "# file = './data_120_3/010_DDU.mat'\n",
    "# file = './data_120_3/010_DDD.mat'\n",
    "# file = './data_120_3/100_DDU.mat'\n",
    "# file = './data_120_3/100_DUU.mat'\n",
    "\n",
    "# stable state\n",
    "# file = './test1/solution_data/000_UUU.mat'\n",
    "# file = './data_120_3/000_DUU.mat'\n",
    "# file = './data_120_3/000_UDU.mat'\n",
    "# file = './data_120_3/000_DUD.mat'\n",
    "# file = './data_120_3/000_DDU.mat'\n",
    "# file = './data_120_3/000_DDD.mat'\n",
    "# file = './data_120_3/000_UUU_L.mat'\n",
    "# file = './data_120_3/100_UUU_L.mat'\n",
    "\n",
    "# other saddles\n",
    "# file = './test1/solution_data/000_UUU.mat'\n",
    "# file = './data_120_3/101_DUU.mat'\n",
    "# file = './data_120_3/101_DUU.mat'\n",
    "# file = './data_120_3/001_DUU.mat'\n",
    "# file = './data_120_3/101_UUU.mat'\n",
    "\n",
    "# file = './test1/solution_data/p101_UUU.mat'\n",
    "\n",
    "\n",
    "# file = './test1/solution_data/000_UUU.mat'\n",
    "# file = './test1/solution_data/001_UUU.mat'\n",
    "# file = './test1/solution_data/00_UU.mat'\n",
    "# file = './test1/solution_data/100_UUU_L.mat'\n",
    "# file = './test1/solution_data/000_UUU_L.mat'\n",
    "\n",
    "# file = './test1/solution_data/1001_UUUU.mat'\n",
    "# file = './test1/solution_data/0001_UUUU.mat'\n",
    "# file = './test1/solution_data/00_DD_L.mat'\n",
    "# # file = './test1/solution_data/0000_UUUU.mat'\n",
    "# # file = './test1/solution_data/000_UUU_R.mat'\n",
    "# file = './test1/solution_data/00_UU_R.mat'\n",
    "\n",
    "# file = './test1/solution_data/0001_UUUU_R.mat'\n",
    "\n",
    "\n",
    "# file = './test1/solution_data/000_UUU.mat'\n",
    "\n",
    "\n",
    "\n",
    "# file = './test1/solution_data/1001_UUUU.mat'\n",
    "# file = './test1/solution_data/0001_UUUU.mat'\n",
    "# file = './test1/solution_data/0000_DDDD_R.mat'\n",
    "# file = './test1/solution_data/000_DDD.mat'\n",
    "\n",
    "# 2-3-4 W 转移路径\n",
    "\n",
    "# 3-4\n",
    "# file = './test1/solution_data/0000_DDDD_R.mat'\n",
    "# file = './test1/solution_data/0001_DDDD_R.mat'\n",
    "# file = './test1/solution_data/0000_DDDU_R.mat'\n",
    "\n",
    "# file = './test1/solution_data/sd2_w.mat'\n",
    "\n",
    "# 2-3\n",
    "# file = './test1/solution_data/00_DD_L.mat'\n",
    "# file = './test1/solution_data/001_DDU.mat'\n",
    "# file = './test1/solution_data/000_DDU.mat'\n",
    "# file = './test1/solution_data/001_DDD.mat'\n",
    "# file = './test1/solution_data/000_DDD.mat'\n",
    "\n",
    "\n",
    "# 1, 2, 3 CB 解景观\n",
    "# file = './test1/solution_data/101_UUU.mat'\n",
    "# file = './test1/solution_data/100_UUU.mat'\n",
    "# file = './test1/solution_data/000_UUU.mat'\n",
    "\n",
    "\n",
    "# file = './test1/solution_data/10_UU.mat'\n",
    "# file = './test1/solution_data/0_U.mat'\n",
    "# file = './test1/solution_data/00_UU.mat'\n",
    "\n",
    "# file = './test1/solution_data/lalala.mat'\n",
    "\n",
    "# -----------------------------\n",
    "# file = './data_120_3/psd2_l.mat'\n",
    "\n",
    "\n",
    "# file = './data_120_3/sd1f0_1.mat'\n",
    "\n",
    "# file = './data_120_3/sd0_1_1.mat'\n",
    "# file = './data_120_3/sd0_1_2.mat'\n",
    "# file = './test1/solution_data/sd3.mat'\n",
    "\n",
    "# file = './data_120_3/10_UU.mat'\n",
    "# file = './data_120_3/sd1_2.mat'\n",
    "# file = './test1/solution_data/tmp1.mat'\n",
    "\n",
    "# file = './test1/solution_data/tmp.mat'\n",
    "# file = './test1/solution_data/sd3.mat'\n",
    "# file = './test1/solution_data/fck1.mat'\n",
    "\n",
    "# file = './test1/solution_data/sd2_4.mat'\n",
    "\n",
    "# file = './test1/solution_data/p3t2_4.mat'\n",
    "\n",
    "file = './test1/solution_data/111_DDD.mat'\n",
    "file = './test1/solution_data/011_UDD.mat'\n",
    "file = './test1/solution_data/011_DDD.mat'\n",
    "file = './test1/solution_data/100_DUU.mat'\n",
    "file = './test1/solution_data/010_DDU.mat'\n",
    "file = './test1/solution_data/001_DDD.mat'\n",
    "file = './test1/solution_data/000_UUU.mat'\n",
    "file = './test1/solution_data/000_DUU.mat'\n",
    "file = './test1/solution_data/000_DDU.mat'\n",
    "file = './test1/solution_data/000_DDD.mat'\n",
    "\n",
    "\n",
    "\n",
    "\n",
    "\n",
    "\n",
    "\n",
    "data = loadmat(file)\n",
    "upy = data['u'].flatten()"
   ]
  },
  {
   "cell_type": "code",
   "execution_count": 61,
   "id": "67615e65",
   "metadata": {},
   "outputs": [],
   "source": [
    "fes = H1(mesh, order=1)\n",
    "gfu = GridFunction(fes)\n",
    "gfu.vec[:] = upy"
   ]
  },
  {
   "cell_type": "code",
   "execution_count": 62,
   "id": "442b6bc2",
   "metadata": {},
   "outputs": [
    {
     "name": "stdout",
     "output_type": "stream",
     "text": [
      "Mesh file ./test1/mesh_data/test1.vol already exists, skipping save.\n",
      "run serial_construct_matrix with time: 0.0760019580000062\n",
      "run serial_construct_matrix with time: 0.015120042000035028\n",
      "0.78607\n"
     ]
    }
   ],
   "source": [
    "# record the free energy \n",
    "from chisd_allencahn import ChisdAllenCahn\n",
    "\n",
    "from model_data import DropletLattice\n",
    "# pde = DropletLattice(theta=102,  mesh_file=\"./test1/mesh_data/test1.vol\")\n",
    "pde = DropletLattice(theta=102, mesh_file=\"./test1/mesh_data/test1.vol\")\n",
    "solver = ChisdAllenCahn(pde)\n",
    "uh = solver.space.function()\n",
    "uh[:] = upy\n",
    "print('{:.5f}'.format(solver.fenergy(uh)))"
   ]
  },
  {
   "cell_type": "code",
   "execution_count": 63,
   "id": "f402dcaa",
   "metadata": {},
   "outputs": [
    {
     "data": {
      "application/vnd.jupyter.widget-view+json": {
       "model_id": "043212ae52de40f9b9c70e074719c1b2",
       "version_major": 2,
       "version_minor": 0
      },
      "text/plain": [
       "WebGuiWidget(layout=Layout(height='500px', width='100%'), value={'gui_settings': {}, 'ngsolve_version': '6.2.2…"
      ]
     },
     "metadata": {},
     "output_type": "display_data"
    },
    {
     "data": {
      "text/plain": [
       "BaseWebGuiScene"
      ]
     },
     "execution_count": 63,
     "metadata": {},
     "output_type": "execute_result"
    }
   ],
   "source": [
    "Draw(gfu)"
   ]
  },
  {
   "cell_type": "code",
   "execution_count": null,
   "id": "6fb0e176",
   "metadata": {},
   "outputs": [],
   "source": []
  }
 ],
 "metadata": {
  "kernelspec": {
   "display_name": "ng",
   "language": "python",
   "name": "python3"
  },
  "language_info": {
   "codemirror_mode": {
    "name": "ipython",
    "version": 3
   },
   "file_extension": ".py",
   "mimetype": "text/x-python",
   "name": "python",
   "nbconvert_exporter": "python",
   "pygments_lexer": "ipython3",
   "version": "3.8.18"
  }
 },
 "nbformat": 4,
 "nbformat_minor": 5
}
