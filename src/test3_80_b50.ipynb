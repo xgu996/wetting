{
 "cells": [
  {
   "cell_type": "code",
   "execution_count": 1,
   "id": "ddd9908e-6275-4b68-be98-b67cba13c6d7",
   "metadata": {
    "tags": []
   },
   "outputs": [],
   "source": [
    "import netgen.geom2d as g2d\n",
    "from ngsolve import *\n",
    "from ngsolve.webgui import Draw\n",
    "\n",
    "import sys\n",
    "\n",
    "sys.path.append(\"..\")\n",
    "\n",
    "import numpy as np\n",
    "from scipy.io import loadmat, savemat\n",
    "import matplotlib.pyplot as plt\n",
    "\n",
    "from fealpy.functionspace import LagrangeFiniteElementSpace\n",
    "\n",
    "from mesh_generator import DomainParallelogramBottom\n",
    "from chisd_allencahn import ChisdAllenCahn\n",
    "from model_data import DropletLattice"
   ]
  },
  {
   "cell_type": "code",
   "execution_count": 5,
   "id": "36ce74e0-6388-4b0a-a2e4-30732d3167d4",
   "metadata": {
    "tags": []
   },
   "outputs": [
    {
     "data": {
      "application/vnd.jupyter.widget-view+json": {
       "model_id": "f82d90ae94654c52a98d1ed55dccac4a",
       "version_major": 2,
       "version_minor": 0
      },
      "text/plain": [
       "WebGuiWidget(layout=Layout(height='50vh', width='100%'), value={'gui_settings': {}, 'ngsolve_version': '6.2.23…"
      ]
     },
     "metadata": {},
     "output_type": "display_data"
    },
    {
     "data": {
      "text/plain": [
       "BaseWebGuiScene"
      ]
     },
     "execution_count": 5,
     "metadata": {},
     "output_type": "execute_result"
    }
   ],
   "source": [
    "box = (0, 1.6, 0, 0.7)\n",
    "bottom_gap = 0.08\n",
    "shape_parameter = (0.06, bottom_gap , 55)\n",
    "domain = DomainParallelogramBottom(\n",
    "    box=box, shape_parameter=shape_parameter, bottom_gap=bottom_gap\n",
    ")\n",
    "\n",
    "geo = domain.geometry_info()\n",
    "geoMesh = geo.GenerateMesh(maxh=0.01)\n",
    "geoMesh.Save(\"./b55.vol\")\n",
    "mesh = Mesh(geoMesh)\n",
    "Draw(mesh)\n"
   ]
  },
  {
   "cell_type": "code",
   "execution_count": 3,
   "id": "16c38242-2432-477a-adf0-c140c79f7a77",
   "metadata": {
    "tags": []
   },
   "outputs": [],
   "source": [
    "# from scipy.io import loadmat\n",
    "\n",
    "# # file = './test3_80_b50/solution_data/u0.mat'\n",
    "# file = './test3_80_b50/solution_data/000_DDD.mat'\n",
    "# file = './test3_80_b50/solution_data/1000_DDDD_L.mat'\n",
    "# file = './test3_80_b50/solution_data/0000_DDDD_L.mat'\n",
    "# file = './test3_80_b50/solution_data/0001_DDDD_L.mat'\n",
    "# file = './test3_80_b50/solution_data/000_DDD_L.mat'\n",
    "\n",
    "\n",
    "# data = loadmat(file)\n",
    "# upy = data['u'].flatten()\n",
    "\n",
    "\n",
    "# pde = DropletLattice(domain =domain, theta=80, mesh_file = './mesh_data/test3_102_b50.vol')\n",
    "# space = LagrangeFiniteElementSpace(pde.mesh, 1)\n",
    "# p = space.interpolation_points()\n",
    "# u = space.function()\n",
    "# # center = (domain.box[0] + domain.box[1])/2\n",
    "# # u[:] = pde.initial_value(p, center = center-0.04)\n",
    "# u[:] = upy\n",
    "# solver = ChisdAllenCahn(pde)\n",
    "# print(\"{:.5f}\".format(solver.fenergy(u)))"
   ]
  },
  {
   "cell_type": "code",
   "execution_count": 4,
   "id": "240b1517-0e87-42a5-a23d-cdcd93a7295c",
   "metadata": {
    "tags": []
   },
   "outputs": [],
   "source": [
    "# fes = H1(mesh, order=1)\n",
    "# gfu = GridFunction(fes)\n",
    "# gfu.vec[:] = u\n",
    "# Draw(gfu)"
   ]
  },
  {
   "cell_type": "code",
   "execution_count": null,
   "id": "17c74e51-d027-45ec-8e64-6a27f9784ede",
   "metadata": {},
   "outputs": [],
   "source": []
  }
 ],
 "metadata": {
  "kernelspec": {
   "display_name": "ng",
   "language": "python",
   "name": "ng"
  },
  "language_info": {
   "codemirror_mode": {
    "name": "ipython",
    "version": 3
   },
   "file_extension": ".py",
   "mimetype": "text/x-python",
   "name": "python",
   "nbconvert_exporter": "python",
   "pygments_lexer": "ipython3",
   "version": "3.8.18"
  }
 },
 "nbformat": 4,
 "nbformat_minor": 5
}
